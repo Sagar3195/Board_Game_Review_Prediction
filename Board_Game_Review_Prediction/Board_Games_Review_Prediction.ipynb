{
  "nbformat": 4,
  "nbformat_minor": 0,
  "metadata": {
    "colab": {
      "name": "Board_Games_Review_Prediction.ipynb",
      "provenance": [],
      "collapsed_sections": []
    },
    "kernelspec": {
      "name": "python3",
      "display_name": "Python 3"
    },
    "language_info": {
      "name": "python"
    }
  },
  "cells": [
    {
      "cell_type": "code",
      "metadata": {
        "id": "ZGD2g4nmx8pi"
      },
      "source": [
        "#Importing required libraries\n",
        "import pandas as pd\n",
        "import numpy as np\n",
        "import matplotlib.pyplot as plt\n",
        "import seaborn as sns\n",
        "import warnings\n",
        "warnings.filterwarnings('ignore')"
      ],
      "execution_count": 9,
      "outputs": []
    },
    {
      "cell_type": "code",
      "metadata": {
        "id": "P5oUaq_bzC_e"
      },
      "source": [
        "#Loading dataset\n",
        "games = pd.read_csv(\"/content/drive/MyDrive/ML_Projects/Board_Game_Review_Prediction/games.csv\")"
      ],
      "execution_count": 10,
      "outputs": []
    },
    {
      "cell_type": "code",
      "metadata": {
        "id": "XS1AUNPXzDDp",
        "colab": {
          "base_uri": "https://localhost:8080/",
          "height": 360
        },
        "outputId": "1b768414-caab-428e-9d36-ee00a5bbf10e"
      },
      "source": [
        "games.head()"
      ],
      "execution_count": 11,
      "outputs": [
        {
          "output_type": "execute_result",
          "data": {
            "text/html": [
              "<div>\n",
              "<style scoped>\n",
              "    .dataframe tbody tr th:only-of-type {\n",
              "        vertical-align: middle;\n",
              "    }\n",
              "\n",
              "    .dataframe tbody tr th {\n",
              "        vertical-align: top;\n",
              "    }\n",
              "\n",
              "    .dataframe thead th {\n",
              "        text-align: right;\n",
              "    }\n",
              "</style>\n",
              "<table border=\"1\" class=\"dataframe\">\n",
              "  <thead>\n",
              "    <tr style=\"text-align: right;\">\n",
              "      <th></th>\n",
              "      <th>id</th>\n",
              "      <th>type</th>\n",
              "      <th>name</th>\n",
              "      <th>yearpublished</th>\n",
              "      <th>minplayers</th>\n",
              "      <th>maxplayers</th>\n",
              "      <th>playingtime</th>\n",
              "      <th>minplaytime</th>\n",
              "      <th>maxplaytime</th>\n",
              "      <th>minage</th>\n",
              "      <th>users_rated</th>\n",
              "      <th>average_rating</th>\n",
              "      <th>bayes_average_rating</th>\n",
              "      <th>total_owners</th>\n",
              "      <th>total_traders</th>\n",
              "      <th>total_wanters</th>\n",
              "      <th>total_wishers</th>\n",
              "      <th>total_comments</th>\n",
              "      <th>total_weights</th>\n",
              "      <th>average_weight</th>\n",
              "    </tr>\n",
              "  </thead>\n",
              "  <tbody>\n",
              "    <tr>\n",
              "      <th>0</th>\n",
              "      <td>12333</td>\n",
              "      <td>boardgame</td>\n",
              "      <td>Twilight Struggle</td>\n",
              "      <td>2005.0</td>\n",
              "      <td>2.0</td>\n",
              "      <td>2.0</td>\n",
              "      <td>180.0</td>\n",
              "      <td>180.0</td>\n",
              "      <td>180.0</td>\n",
              "      <td>13.0</td>\n",
              "      <td>20113</td>\n",
              "      <td>8.33774</td>\n",
              "      <td>8.22186</td>\n",
              "      <td>26647</td>\n",
              "      <td>372</td>\n",
              "      <td>1219</td>\n",
              "      <td>5865</td>\n",
              "      <td>5347</td>\n",
              "      <td>2562</td>\n",
              "      <td>3.4785</td>\n",
              "    </tr>\n",
              "    <tr>\n",
              "      <th>1</th>\n",
              "      <td>120677</td>\n",
              "      <td>boardgame</td>\n",
              "      <td>Terra Mystica</td>\n",
              "      <td>2012.0</td>\n",
              "      <td>2.0</td>\n",
              "      <td>5.0</td>\n",
              "      <td>150.0</td>\n",
              "      <td>60.0</td>\n",
              "      <td>150.0</td>\n",
              "      <td>12.0</td>\n",
              "      <td>14383</td>\n",
              "      <td>8.28798</td>\n",
              "      <td>8.14232</td>\n",
              "      <td>16519</td>\n",
              "      <td>132</td>\n",
              "      <td>1586</td>\n",
              "      <td>6277</td>\n",
              "      <td>2526</td>\n",
              "      <td>1423</td>\n",
              "      <td>3.8939</td>\n",
              "    </tr>\n",
              "    <tr>\n",
              "      <th>2</th>\n",
              "      <td>102794</td>\n",
              "      <td>boardgame</td>\n",
              "      <td>Caverna: The Cave Farmers</td>\n",
              "      <td>2013.0</td>\n",
              "      <td>1.0</td>\n",
              "      <td>7.0</td>\n",
              "      <td>210.0</td>\n",
              "      <td>30.0</td>\n",
              "      <td>210.0</td>\n",
              "      <td>12.0</td>\n",
              "      <td>9262</td>\n",
              "      <td>8.28994</td>\n",
              "      <td>8.06886</td>\n",
              "      <td>12230</td>\n",
              "      <td>99</td>\n",
              "      <td>1476</td>\n",
              "      <td>5600</td>\n",
              "      <td>1700</td>\n",
              "      <td>777</td>\n",
              "      <td>3.7761</td>\n",
              "    </tr>\n",
              "    <tr>\n",
              "      <th>3</th>\n",
              "      <td>25613</td>\n",
              "      <td>boardgame</td>\n",
              "      <td>Through the Ages: A Story of Civilization</td>\n",
              "      <td>2006.0</td>\n",
              "      <td>2.0</td>\n",
              "      <td>4.0</td>\n",
              "      <td>240.0</td>\n",
              "      <td>240.0</td>\n",
              "      <td>240.0</td>\n",
              "      <td>12.0</td>\n",
              "      <td>13294</td>\n",
              "      <td>8.20407</td>\n",
              "      <td>8.05804</td>\n",
              "      <td>14343</td>\n",
              "      <td>362</td>\n",
              "      <td>1084</td>\n",
              "      <td>5075</td>\n",
              "      <td>3378</td>\n",
              "      <td>1642</td>\n",
              "      <td>4.1590</td>\n",
              "    </tr>\n",
              "    <tr>\n",
              "      <th>4</th>\n",
              "      <td>3076</td>\n",
              "      <td>boardgame</td>\n",
              "      <td>Puerto Rico</td>\n",
              "      <td>2002.0</td>\n",
              "      <td>2.0</td>\n",
              "      <td>5.0</td>\n",
              "      <td>150.0</td>\n",
              "      <td>90.0</td>\n",
              "      <td>150.0</td>\n",
              "      <td>12.0</td>\n",
              "      <td>39883</td>\n",
              "      <td>8.14261</td>\n",
              "      <td>8.04524</td>\n",
              "      <td>44362</td>\n",
              "      <td>795</td>\n",
              "      <td>861</td>\n",
              "      <td>5414</td>\n",
              "      <td>9173</td>\n",
              "      <td>5213</td>\n",
              "      <td>3.2943</td>\n",
              "    </tr>\n",
              "  </tbody>\n",
              "</table>\n",
              "</div>"
            ],
            "text/plain": [
              "       id       type  ... total_weights  average_weight\n",
              "0   12333  boardgame  ...          2562          3.4785\n",
              "1  120677  boardgame  ...          1423          3.8939\n",
              "2  102794  boardgame  ...           777          3.7761\n",
              "3   25613  boardgame  ...          1642          4.1590\n",
              "4    3076  boardgame  ...          5213          3.2943\n",
              "\n",
              "[5 rows x 20 columns]"
            ]
          },
          "metadata": {
            "tags": []
          },
          "execution_count": 11
        }
      ]
    },
    {
      "cell_type": "code",
      "metadata": {
        "id": "6kjekModzZkH",
        "colab": {
          "base_uri": "https://localhost:8080/"
        },
        "outputId": "e2f368ff-9285-4907-a00c-ef9e35ed4bec"
      },
      "source": [
        "#Shape of dataset\n",
        "games.shape"
      ],
      "execution_count": 12,
      "outputs": [
        {
          "output_type": "execute_result",
          "data": {
            "text/plain": [
              "(81312, 20)"
            ]
          },
          "metadata": {
            "tags": []
          },
          "execution_count": 12
        }
      ]
    },
    {
      "cell_type": "code",
      "metadata": {
        "id": "MR0Es5xjzZns",
        "colab": {
          "base_uri": "https://localhost:8080/"
        },
        "outputId": "b0899b7d-ef26-4bdf-99f7-8d1cd9452695"
      },
      "source": [
        "#Columns of dataset\n",
        "games.columns"
      ],
      "execution_count": 13,
      "outputs": [
        {
          "output_type": "execute_result",
          "data": {
            "text/plain": [
              "Index(['id', 'type', 'name', 'yearpublished', 'minplayers', 'maxplayers',\n",
              "       'playingtime', 'minplaytime', 'maxplaytime', 'minage', 'users_rated',\n",
              "       'average_rating', 'bayes_average_rating', 'total_owners',\n",
              "       'total_traders', 'total_wanters', 'total_wishers', 'total_comments',\n",
              "       'total_weights', 'average_weight'],\n",
              "      dtype='object')"
            ]
          },
          "metadata": {
            "tags": []
          },
          "execution_count": 13
        }
      ]
    },
    {
      "cell_type": "code",
      "metadata": {
        "id": "qif_c5tezZrS",
        "colab": {
          "base_uri": "https://localhost:8080/"
        },
        "outputId": "ef61894e-66a5-4e55-ba31-e2b195249da1"
      },
      "source": [
        "games.info()"
      ],
      "execution_count": 14,
      "outputs": [
        {
          "output_type": "stream",
          "text": [
            "<class 'pandas.core.frame.DataFrame'>\n",
            "RangeIndex: 81312 entries, 0 to 81311\n",
            "Data columns (total 20 columns):\n",
            " #   Column                Non-Null Count  Dtype  \n",
            "---  ------                --------------  -----  \n",
            " 0   id                    81312 non-null  int64  \n",
            " 1   type                  81312 non-null  object \n",
            " 2   name                  81271 non-null  object \n",
            " 3   yearpublished         81309 non-null  float64\n",
            " 4   minplayers            81309 non-null  float64\n",
            " 5   maxplayers            81309 non-null  float64\n",
            " 6   playingtime           81309 non-null  float64\n",
            " 7   minplaytime           81309 non-null  float64\n",
            " 8   maxplaytime           81309 non-null  float64\n",
            " 9   minage                81309 non-null  float64\n",
            " 10  users_rated           81312 non-null  int64  \n",
            " 11  average_rating        81312 non-null  float64\n",
            " 12  bayes_average_rating  81312 non-null  float64\n",
            " 13  total_owners          81312 non-null  int64  \n",
            " 14  total_traders         81312 non-null  int64  \n",
            " 15  total_wanters         81312 non-null  int64  \n",
            " 16  total_wishers         81312 non-null  int64  \n",
            " 17  total_comments        81312 non-null  int64  \n",
            " 18  total_weights         81312 non-null  int64  \n",
            " 19  average_weight        81312 non-null  float64\n",
            "dtypes: float64(10), int64(8), object(2)\n",
            "memory usage: 12.4+ MB\n"
          ],
          "name": "stdout"
        }
      ]
    },
    {
      "cell_type": "code",
      "metadata": {
        "id": "xJqVLj1LzZu6",
        "colab": {
          "base_uri": "https://localhost:8080/",
          "height": 317
        },
        "outputId": "09364ec7-b91c-4ed5-f7da-2a29f30103fe"
      },
      "source": [
        "#Statitstical summary of dataset\n",
        "games.describe()"
      ],
      "execution_count": 15,
      "outputs": [
        {
          "output_type": "execute_result",
          "data": {
            "text/html": [
              "<div>\n",
              "<style scoped>\n",
              "    .dataframe tbody tr th:only-of-type {\n",
              "        vertical-align: middle;\n",
              "    }\n",
              "\n",
              "    .dataframe tbody tr th {\n",
              "        vertical-align: top;\n",
              "    }\n",
              "\n",
              "    .dataframe thead th {\n",
              "        text-align: right;\n",
              "    }\n",
              "</style>\n",
              "<table border=\"1\" class=\"dataframe\">\n",
              "  <thead>\n",
              "    <tr style=\"text-align: right;\">\n",
              "      <th></th>\n",
              "      <th>id</th>\n",
              "      <th>yearpublished</th>\n",
              "      <th>minplayers</th>\n",
              "      <th>maxplayers</th>\n",
              "      <th>playingtime</th>\n",
              "      <th>minplaytime</th>\n",
              "      <th>maxplaytime</th>\n",
              "      <th>minage</th>\n",
              "      <th>users_rated</th>\n",
              "      <th>average_rating</th>\n",
              "      <th>bayes_average_rating</th>\n",
              "      <th>total_owners</th>\n",
              "      <th>total_traders</th>\n",
              "      <th>total_wanters</th>\n",
              "      <th>total_wishers</th>\n",
              "      <th>total_comments</th>\n",
              "      <th>total_weights</th>\n",
              "      <th>average_weight</th>\n",
              "    </tr>\n",
              "  </thead>\n",
              "  <tbody>\n",
              "    <tr>\n",
              "      <th>count</th>\n",
              "      <td>81312.000000</td>\n",
              "      <td>81309.000000</td>\n",
              "      <td>81309.000000</td>\n",
              "      <td>81309.000000</td>\n",
              "      <td>81309.000000</td>\n",
              "      <td>81309.000000</td>\n",
              "      <td>81309.000000</td>\n",
              "      <td>81309.000000</td>\n",
              "      <td>81312.000000</td>\n",
              "      <td>81312.000000</td>\n",
              "      <td>81312.000000</td>\n",
              "      <td>81312.000000</td>\n",
              "      <td>81312.000000</td>\n",
              "      <td>81312.000000</td>\n",
              "      <td>81312.000000</td>\n",
              "      <td>81312.000000</td>\n",
              "      <td>81312.000000</td>\n",
              "      <td>81312.000000</td>\n",
              "    </tr>\n",
              "    <tr>\n",
              "      <th>mean</th>\n",
              "      <td>72278.150138</td>\n",
              "      <td>1806.630668</td>\n",
              "      <td>1.992018</td>\n",
              "      <td>5.637703</td>\n",
              "      <td>51.634788</td>\n",
              "      <td>49.276833</td>\n",
              "      <td>51.634788</td>\n",
              "      <td>6.983975</td>\n",
              "      <td>161.886585</td>\n",
              "      <td>4.212144</td>\n",
              "      <td>1.157632</td>\n",
              "      <td>262.502509</td>\n",
              "      <td>9.236423</td>\n",
              "      <td>12.688890</td>\n",
              "      <td>42.719144</td>\n",
              "      <td>49.290031</td>\n",
              "      <td>16.488009</td>\n",
              "      <td>0.908083</td>\n",
              "    </tr>\n",
              "    <tr>\n",
              "      <th>std</th>\n",
              "      <td>58818.237742</td>\n",
              "      <td>588.517834</td>\n",
              "      <td>0.931034</td>\n",
              "      <td>56.076890</td>\n",
              "      <td>345.699969</td>\n",
              "      <td>334.483934</td>\n",
              "      <td>345.699969</td>\n",
              "      <td>5.035138</td>\n",
              "      <td>1145.978126</td>\n",
              "      <td>3.056551</td>\n",
              "      <td>2.340033</td>\n",
              "      <td>1504.536693</td>\n",
              "      <td>39.757408</td>\n",
              "      <td>60.764207</td>\n",
              "      <td>239.292628</td>\n",
              "      <td>284.862853</td>\n",
              "      <td>115.980285</td>\n",
              "      <td>1.176002</td>\n",
              "    </tr>\n",
              "    <tr>\n",
              "      <th>min</th>\n",
              "      <td>1.000000</td>\n",
              "      <td>-3500.000000</td>\n",
              "      <td>0.000000</td>\n",
              "      <td>0.000000</td>\n",
              "      <td>0.000000</td>\n",
              "      <td>0.000000</td>\n",
              "      <td>0.000000</td>\n",
              "      <td>0.000000</td>\n",
              "      <td>0.000000</td>\n",
              "      <td>0.000000</td>\n",
              "      <td>0.000000</td>\n",
              "      <td>0.000000</td>\n",
              "      <td>0.000000</td>\n",
              "      <td>0.000000</td>\n",
              "      <td>0.000000</td>\n",
              "      <td>0.000000</td>\n",
              "      <td>0.000000</td>\n",
              "      <td>0.000000</td>\n",
              "    </tr>\n",
              "    <tr>\n",
              "      <th>25%</th>\n",
              "      <td>21339.750000</td>\n",
              "      <td>1984.000000</td>\n",
              "      <td>2.000000</td>\n",
              "      <td>2.000000</td>\n",
              "      <td>8.000000</td>\n",
              "      <td>10.000000</td>\n",
              "      <td>8.000000</td>\n",
              "      <td>0.000000</td>\n",
              "      <td>0.000000</td>\n",
              "      <td>0.000000</td>\n",
              "      <td>0.000000</td>\n",
              "      <td>1.000000</td>\n",
              "      <td>0.000000</td>\n",
              "      <td>0.000000</td>\n",
              "      <td>0.000000</td>\n",
              "      <td>0.000000</td>\n",
              "      <td>0.000000</td>\n",
              "      <td>0.000000</td>\n",
              "    </tr>\n",
              "    <tr>\n",
              "      <th>50%</th>\n",
              "      <td>43258.000000</td>\n",
              "      <td>2003.000000</td>\n",
              "      <td>2.000000</td>\n",
              "      <td>4.000000</td>\n",
              "      <td>30.000000</td>\n",
              "      <td>30.000000</td>\n",
              "      <td>30.000000</td>\n",
              "      <td>8.000000</td>\n",
              "      <td>2.000000</td>\n",
              "      <td>5.265620</td>\n",
              "      <td>0.000000</td>\n",
              "      <td>7.000000</td>\n",
              "      <td>0.000000</td>\n",
              "      <td>0.000000</td>\n",
              "      <td>1.000000</td>\n",
              "      <td>1.000000</td>\n",
              "      <td>0.000000</td>\n",
              "      <td>0.000000</td>\n",
              "    </tr>\n",
              "    <tr>\n",
              "      <th>75%</th>\n",
              "      <td>128836.500000</td>\n",
              "      <td>2010.000000</td>\n",
              "      <td>2.000000</td>\n",
              "      <td>6.000000</td>\n",
              "      <td>60.000000</td>\n",
              "      <td>60.000000</td>\n",
              "      <td>60.000000</td>\n",
              "      <td>12.000000</td>\n",
              "      <td>16.000000</td>\n",
              "      <td>6.718777</td>\n",
              "      <td>0.000000</td>\n",
              "      <td>51.000000</td>\n",
              "      <td>2.000000</td>\n",
              "      <td>3.000000</td>\n",
              "      <td>7.000000</td>\n",
              "      <td>9.000000</td>\n",
              "      <td>2.000000</td>\n",
              "      <td>1.916700</td>\n",
              "    </tr>\n",
              "    <tr>\n",
              "      <th>max</th>\n",
              "      <td>184451.000000</td>\n",
              "      <td>2018.000000</td>\n",
              "      <td>99.000000</td>\n",
              "      <td>11299.000000</td>\n",
              "      <td>60120.000000</td>\n",
              "      <td>60120.000000</td>\n",
              "      <td>60120.000000</td>\n",
              "      <td>120.000000</td>\n",
              "      <td>53680.000000</td>\n",
              "      <td>10.000000</td>\n",
              "      <td>8.221860</td>\n",
              "      <td>73188.000000</td>\n",
              "      <td>1395.000000</td>\n",
              "      <td>1586.000000</td>\n",
              "      <td>6402.000000</td>\n",
              "      <td>11798.000000</td>\n",
              "      <td>5996.000000</td>\n",
              "      <td>5.000000</td>\n",
              "    </tr>\n",
              "  </tbody>\n",
              "</table>\n",
              "</div>"
            ],
            "text/plain": [
              "                  id  yearpublished  ...  total_weights  average_weight\n",
              "count   81312.000000   81309.000000  ...   81312.000000    81312.000000\n",
              "mean    72278.150138    1806.630668  ...      16.488009        0.908083\n",
              "std     58818.237742     588.517834  ...     115.980285        1.176002\n",
              "min         1.000000   -3500.000000  ...       0.000000        0.000000\n",
              "25%     21339.750000    1984.000000  ...       0.000000        0.000000\n",
              "50%     43258.000000    2003.000000  ...       0.000000        0.000000\n",
              "75%    128836.500000    2010.000000  ...       2.000000        1.916700\n",
              "max    184451.000000    2018.000000  ...    5996.000000        5.000000\n",
              "\n",
              "[8 rows x 18 columns]"
            ]
          },
          "metadata": {
            "tags": []
          },
          "execution_count": 15
        }
      ]
    },
    {
      "cell_type": "code",
      "metadata": {
        "id": "TTAbPYZmzZyU",
        "colab": {
          "base_uri": "https://localhost:8080/"
        },
        "outputId": "e8ce2e88-95d4-4664-b8aa-3dad696d4c4a"
      },
      "source": [
        "#Checking missing values in dataset\n",
        "games.isnull().sum()"
      ],
      "execution_count": 16,
      "outputs": [
        {
          "output_type": "execute_result",
          "data": {
            "text/plain": [
              "id                       0\n",
              "type                     0\n",
              "name                    41\n",
              "yearpublished            3\n",
              "minplayers               3\n",
              "maxplayers               3\n",
              "playingtime              3\n",
              "minplaytime              3\n",
              "maxplaytime              3\n",
              "minage                   3\n",
              "users_rated              0\n",
              "average_rating           0\n",
              "bayes_average_rating     0\n",
              "total_owners             0\n",
              "total_traders            0\n",
              "total_wanters            0\n",
              "total_wishers            0\n",
              "total_comments           0\n",
              "total_weights            0\n",
              "average_weight           0\n",
              "dtype: int64"
            ]
          },
          "metadata": {
            "tags": []
          },
          "execution_count": 16
        }
      ]
    },
    {
      "cell_type": "code",
      "metadata": {
        "id": "1mTiGARqzZ15",
        "colab": {
          "base_uri": "https://localhost:8080/"
        },
        "outputId": "9202c004-03e7-4263-c3e4-b30e818869a5"
      },
      "source": [
        "#Displays total number of unique values in each columns\n",
        "games.nunique()"
      ],
      "execution_count": 17,
      "outputs": [
        {
          "output_type": "execute_result",
          "data": {
            "text/plain": [
              "id                      79463\n",
              "type                        2\n",
              "name                    76035\n",
              "yearpublished             323\n",
              "minplayers                 24\n",
              "maxplayers                 89\n",
              "playingtime               134\n",
              "minplaytime               123\n",
              "maxplaytime               134\n",
              "minage                     35\n",
              "users_rated              2147\n",
              "average_rating          17564\n",
              "bayes_average_rating    12681\n",
              "total_owners             2995\n",
              "total_traders             407\n",
              "total_wanters             540\n",
              "total_wishers            1130\n",
              "total_comments           1216\n",
              "total_weights             657\n",
              "average_weight           3376\n",
              "dtype: int64"
            ]
          },
          "metadata": {
            "tags": []
          },
          "execution_count": 17
        }
      ]
    },
    {
      "cell_type": "code",
      "metadata": {
        "id": "olvCIoyTzZ5J",
        "colab": {
          "base_uri": "https://localhost:8080/"
        },
        "outputId": "b4098fce-b76b-4fed-bcdf-3f01a00c06a6"
      },
      "source": [
        "games['type'].value_counts()"
      ],
      "execution_count": 18,
      "outputs": [
        {
          "output_type": "execute_result",
          "data": {
            "text/plain": [
              "boardgame             70820\n",
              "boardgameexpansion    10492\n",
              "Name: type, dtype: int64"
            ]
          },
          "metadata": {
            "tags": []
          },
          "execution_count": 18
        }
      ]
    },
    {
      "cell_type": "markdown",
      "metadata": {
        "id": "bSxH_3r0axPx"
      },
      "source": [
        "#### EDA"
      ]
    },
    {
      "cell_type": "code",
      "metadata": {
        "id": "O0b_PHfazZ9Y",
        "colab": {
          "base_uri": "https://localhost:8080/",
          "height": 296
        },
        "outputId": "0ff649fa-40c2-4d6d-817f-93464d45c5f3"
      },
      "source": [
        "sns.countplot(games['type'])"
      ],
      "execution_count": 19,
      "outputs": [
        {
          "output_type": "execute_result",
          "data": {
            "text/plain": [
              "<matplotlib.axes._subplots.AxesSubplot at 0x7f3e35e69e10>"
            ]
          },
          "metadata": {
            "tags": []
          },
          "execution_count": 19
        },
        {
          "output_type": "display_data",
          "data": {
            "image/png": "[encoded data removed]",
            "text/plain": [
              "<Figure size 432x288 with 1 Axes>"
            ]
          },
          "metadata": {
            "tags": [],
            "needs_background": "light"
          }
        }
      ]
    },
    {
      "cell_type": "code",
      "metadata": {
        "id": "losdNNG2zaBK",
        "colab": {
          "base_uri": "https://localhost:8080/",
          "height": 297
        },
        "outputId": "7974ba5e-0012-44b8-cb62-34c5c689dab0"
      },
      "source": [
        "sns.distplot(games['average_rating'])"
      ],
      "execution_count": 20,
      "outputs": [
        {
          "output_type": "execute_result",
          "data": {
            "text/plain": [
              "<matplotlib.axes._subplots.AxesSubplot at 0x7f3e3591ad90>"
            ]
          },
          "metadata": {
            "tags": []
          },
          "execution_count": 20
        },
        {
          "output_type": "display_data",
          "data": {
            "image/png": "[encoded data removed]",
            "text/plain": [
              "<Figure size 432x288 with 1 Axes>"
            ]
          },
          "metadata": {
            "tags": [],
            "needs_background": "light"
          }
        }
      ]
    },
    {
      "cell_type": "code",
      "metadata": {
        "id": "V2D4dJ0izaH-",
        "colab": {
          "base_uri": "https://localhost:8080/",
          "height": 333
        },
        "outputId": "7b363592-8ad0-449c-b20e-626b81a1e77e"
      },
      "source": [
        "plt.hist(games['users_rated'],range = (0,5))"
      ],
      "execution_count": 24,
      "outputs": [
        {
          "output_type": "execute_result",
          "data": {
            "text/plain": [
              "(array([24380.,     0., 11306.,     0.,  6089.,     0.,  3970.,     0.,\n",
              "         2818.,  2219.]),\n",
              " array([0. , 0.5, 1. , 1.5, 2. , 2.5, 3. , 3.5, 4. , 4.5, 5. ]),\n",
              " <a list of 10 Patch objects>)"
            ]
          },
          "metadata": {
            "tags": []
          },
          "execution_count": 24
        },
        {
          "output_type": "display_data",
          "data": {
            "image/png": "[encoded data removed]",
            "text/plain": [
              "<Figure size 432x288 with 1 Axes>"
            ]
          },
          "metadata": {
            "tags": [],
            "needs_background": "light"
          }
        }
      ]
    },
    {
      "cell_type": "markdown",
      "metadata": {
        "id": "l4YMANEscach"
      },
      "source": [
        " * From the above plot we can say that board games have more number zero user rated."
      ]
    },
    {
      "cell_type": "markdown",
      "metadata": {
        "id": "dODaV33Y5VJ6"
      },
      "source": [
        "#### Feature Engineering"
      ]
    },
    {
      "cell_type": "code",
      "metadata": {
        "id": "gXW_iuGlzaLd",
        "colab": {
          "base_uri": "https://localhost:8080/"
        },
        "outputId": "5762ef98-2ed4-43a7-8ac6-c359ef13169c"
      },
      "source": [
        "#Let's see the average rating of board games which are not rated by any of the users.\n",
        "games[games['users_rated'] == 0]['average_rating'].describe()"
      ],
      "execution_count": 25,
      "outputs": [
        {
          "output_type": "execute_result",
          "data": {
            "text/plain": [
              "count    24380.0\n",
              "mean         0.0\n",
              "std          0.0\n",
              "min          0.0\n",
              "25%          0.0\n",
              "50%          0.0\n",
              "75%          0.0\n",
              "max          0.0\n",
              "Name: average_rating, dtype: float64"
            ]
          },
          "metadata": {
            "tags": []
          },
          "execution_count": 25
        }
      ]
    },
    {
      "cell_type": "markdown",
      "metadata": {
        "id": "-kOCkTM2dF9O"
      },
      "source": [
        "* We can see that 24380 board games are not rated by any of the users.\n",
        "* So we will drop the rows with users_rated = 0."
      ]
    },
    {
      "cell_type": "code",
      "metadata": {
        "id": "2HijDsj2zaPR",
        "colab": {
          "base_uri": "https://localhost:8080/",
          "height": 711
        },
        "outputId": "c5d29059-ca56-47c4-e814-6775734d89e3"
      },
      "source": [
        "games[(games['maxplayers'] == 0) | (games['maxplaytime'] == 0)]"
      ],
      "execution_count": 29,
      "outputs": [
        {
          "output_type": "execute_result",
          "data": {
            "text/html": [
              "<div>\n",
              "<style scoped>\n",
              "    .dataframe tbody tr th:only-of-type {\n",
              "        vertical-align: middle;\n",
              "    }\n",
              "\n",
              "    .dataframe tbody tr th {\n",
              "        vertical-align: top;\n",
              "    }\n",
              "\n",
              "    .dataframe thead th {\n",
              "        text-align: right;\n",
              "    }\n",
              "</style>\n",
              "<table border=\"1\" class=\"dataframe\">\n",
              "  <thead>\n",
              "    <tr style=\"text-align: right;\">\n",
              "      <th></th>\n",
              "      <th>id</th>\n",
              "      <th>type</th>\n",
              "      <th>name</th>\n",
              "      <th>yearpublished</th>\n",
              "      <th>minplayers</th>\n",
              "      <th>maxplayers</th>\n",
              "      <th>playingtime</th>\n",
              "      <th>minplaytime</th>\n",
              "      <th>maxplaytime</th>\n",
              "      <th>minage</th>\n",
              "      <th>users_rated</th>\n",
              "      <th>average_rating</th>\n",
              "      <th>bayes_average_rating</th>\n",
              "      <th>total_owners</th>\n",
              "      <th>total_traders</th>\n",
              "      <th>total_wanters</th>\n",
              "      <th>total_wishers</th>\n",
              "      <th>total_comments</th>\n",
              "      <th>total_weights</th>\n",
              "      <th>average_weight</th>\n",
              "    </tr>\n",
              "  </thead>\n",
              "  <tbody>\n",
              "    <tr>\n",
              "      <th>657</th>\n",
              "      <td>160902</td>\n",
              "      <td>boardgame</td>\n",
              "      <td>Dungeons &amp; Dragons Dice Masters: Battle for Faern</td>\n",
              "      <td>2015.0</td>\n",
              "      <td>2.0</td>\n",
              "      <td>2.0</td>\n",
              "      <td>0.0</td>\n",
              "      <td>60.0</td>\n",
              "      <td>0.0</td>\n",
              "      <td>14.0</td>\n",
              "      <td>621</td>\n",
              "      <td>7.82241</td>\n",
              "      <td>6.57014</td>\n",
              "      <td>1941</td>\n",
              "      <td>85</td>\n",
              "      <td>73</td>\n",
              "      <td>185</td>\n",
              "      <td>150</td>\n",
              "      <td>45</td>\n",
              "      <td>2.0889</td>\n",
              "    </tr>\n",
              "    <tr>\n",
              "      <th>929</th>\n",
              "      <td>153016</td>\n",
              "      <td>boardgame</td>\n",
              "      <td>Telestrations: 12 Player Party Pack</td>\n",
              "      <td>2011.0</td>\n",
              "      <td>4.0</td>\n",
              "      <td>12.0</td>\n",
              "      <td>0.0</td>\n",
              "      <td>0.0</td>\n",
              "      <td>0.0</td>\n",
              "      <td>12.0</td>\n",
              "      <td>413</td>\n",
              "      <td>7.88981</td>\n",
              "      <td>6.37987</td>\n",
              "      <td>966</td>\n",
              "      <td>6</td>\n",
              "      <td>54</td>\n",
              "      <td>131</td>\n",
              "      <td>80</td>\n",
              "      <td>14</td>\n",
              "      <td>1.0000</td>\n",
              "    </tr>\n",
              "    <tr>\n",
              "      <th>1211</th>\n",
              "      <td>37301</td>\n",
              "      <td>boardgame</td>\n",
              "      <td>Decktet</td>\n",
              "      <td>2008.0</td>\n",
              "      <td>0.0</td>\n",
              "      <td>0.0</td>\n",
              "      <td>30.0</td>\n",
              "      <td>30.0</td>\n",
              "      <td>30.0</td>\n",
              "      <td>0.0</td>\n",
              "      <td>366</td>\n",
              "      <td>7.58172</td>\n",
              "      <td>6.22832</td>\n",
              "      <td>1157</td>\n",
              "      <td>42</td>\n",
              "      <td>46</td>\n",
              "      <td>225</td>\n",
              "      <td>256</td>\n",
              "      <td>29</td>\n",
              "      <td>1.9655</td>\n",
              "    </tr>\n",
              "    <tr>\n",
              "      <th>1342</th>\n",
              "      <td>52328</td>\n",
              "      <td>boardgame</td>\n",
              "      <td>Malifaux</td>\n",
              "      <td>2009.0</td>\n",
              "      <td>2.0</td>\n",
              "      <td>2.0</td>\n",
              "      <td>0.0</td>\n",
              "      <td>0.0</td>\n",
              "      <td>0.0</td>\n",
              "      <td>0.0</td>\n",
              "      <td>338</td>\n",
              "      <td>7.66586</td>\n",
              "      <td>6.16904</td>\n",
              "      <td>680</td>\n",
              "      <td>22</td>\n",
              "      <td>25</td>\n",
              "      <td>78</td>\n",
              "      <td>104</td>\n",
              "      <td>36</td>\n",
              "      <td>3.2500</td>\n",
              "    </tr>\n",
              "    <tr>\n",
              "      <th>1516</th>\n",
              "      <td>29285</td>\n",
              "      <td>boardgame</td>\n",
              "      <td>Case Blue</td>\n",
              "      <td>2007.0</td>\n",
              "      <td>1.0</td>\n",
              "      <td>2.0</td>\n",
              "      <td>0.0</td>\n",
              "      <td>0.0</td>\n",
              "      <td>0.0</td>\n",
              "      <td>12.0</td>\n",
              "      <td>224</td>\n",
              "      <td>8.26528</td>\n",
              "      <td>6.09953</td>\n",
              "      <td>572</td>\n",
              "      <td>3</td>\n",
              "      <td>116</td>\n",
              "      <td>323</td>\n",
              "      <td>113</td>\n",
              "      <td>66</td>\n",
              "      <td>4.5758</td>\n",
              "    </tr>\n",
              "    <tr>\n",
              "      <th>...</th>\n",
              "      <td>...</td>\n",
              "      <td>...</td>\n",
              "      <td>...</td>\n",
              "      <td>...</td>\n",
              "      <td>...</td>\n",
              "      <td>...</td>\n",
              "      <td>...</td>\n",
              "      <td>...</td>\n",
              "      <td>...</td>\n",
              "      <td>...</td>\n",
              "      <td>...</td>\n",
              "      <td>...</td>\n",
              "      <td>...</td>\n",
              "      <td>...</td>\n",
              "      <td>...</td>\n",
              "      <td>...</td>\n",
              "      <td>...</td>\n",
              "      <td>...</td>\n",
              "      <td>...</td>\n",
              "      <td>...</td>\n",
              "    </tr>\n",
              "    <tr>\n",
              "      <th>81294</th>\n",
              "      <td>184349</td>\n",
              "      <td>boardgame</td>\n",
              "      <td>The Luzon Campaign, 1945</td>\n",
              "      <td>2018.0</td>\n",
              "      <td>1.0</td>\n",
              "      <td>1.0</td>\n",
              "      <td>0.0</td>\n",
              "      <td>0.0</td>\n",
              "      <td>0.0</td>\n",
              "      <td>0.0</td>\n",
              "      <td>0</td>\n",
              "      <td>0.00000</td>\n",
              "      <td>0.00000</td>\n",
              "      <td>0</td>\n",
              "      <td>0</td>\n",
              "      <td>0</td>\n",
              "      <td>0</td>\n",
              "      <td>0</td>\n",
              "      <td>0</td>\n",
              "      <td>0.0000</td>\n",
              "    </tr>\n",
              "    <tr>\n",
              "      <th>81299</th>\n",
              "      <td>184368</td>\n",
              "      <td>boardgame</td>\n",
              "      <td>Bone Head</td>\n",
              "      <td>2015.0</td>\n",
              "      <td>2.0</td>\n",
              "      <td>9.0</td>\n",
              "      <td>0.0</td>\n",
              "      <td>0.0</td>\n",
              "      <td>0.0</td>\n",
              "      <td>0.0</td>\n",
              "      <td>0</td>\n",
              "      <td>0.00000</td>\n",
              "      <td>0.00000</td>\n",
              "      <td>0</td>\n",
              "      <td>0</td>\n",
              "      <td>0</td>\n",
              "      <td>0</td>\n",
              "      <td>0</td>\n",
              "      <td>0</td>\n",
              "      <td>0.0000</td>\n",
              "    </tr>\n",
              "    <tr>\n",
              "      <th>81303</th>\n",
              "      <td>184403</td>\n",
              "      <td>boardgame</td>\n",
              "      <td>Big Dope Deal</td>\n",
              "      <td>2008.0</td>\n",
              "      <td>2.0</td>\n",
              "      <td>6.0</td>\n",
              "      <td>0.0</td>\n",
              "      <td>60.0</td>\n",
              "      <td>0.0</td>\n",
              "      <td>18.0</td>\n",
              "      <td>0</td>\n",
              "      <td>0.00000</td>\n",
              "      <td>0.00000</td>\n",
              "      <td>0</td>\n",
              "      <td>0</td>\n",
              "      <td>0</td>\n",
              "      <td>0</td>\n",
              "      <td>0</td>\n",
              "      <td>0</td>\n",
              "      <td>0.0000</td>\n",
              "    </tr>\n",
              "    <tr>\n",
              "      <th>81307</th>\n",
              "      <td>184441</td>\n",
              "      <td>boardgameexpansion</td>\n",
              "      <td>Micro Rome: Aegyptus</td>\n",
              "      <td>2015.0</td>\n",
              "      <td>1.0</td>\n",
              "      <td>1.0</td>\n",
              "      <td>0.0</td>\n",
              "      <td>30.0</td>\n",
              "      <td>0.0</td>\n",
              "      <td>10.0</td>\n",
              "      <td>0</td>\n",
              "      <td>0.00000</td>\n",
              "      <td>0.00000</td>\n",
              "      <td>0</td>\n",
              "      <td>0</td>\n",
              "      <td>0</td>\n",
              "      <td>0</td>\n",
              "      <td>0</td>\n",
              "      <td>0</td>\n",
              "      <td>0.0000</td>\n",
              "    </tr>\n",
              "    <tr>\n",
              "      <th>81308</th>\n",
              "      <td>184442</td>\n",
              "      <td>boardgame</td>\n",
              "      <td>Trivial Pursuit: Marvel Cinematic Universe  Da...</td>\n",
              "      <td>2013.0</td>\n",
              "      <td>2.0</td>\n",
              "      <td>0.0</td>\n",
              "      <td>0.0</td>\n",
              "      <td>0.0</td>\n",
              "      <td>0.0</td>\n",
              "      <td>12.0</td>\n",
              "      <td>0</td>\n",
              "      <td>0.00000</td>\n",
              "      <td>0.00000</td>\n",
              "      <td>0</td>\n",
              "      <td>0</td>\n",
              "      <td>0</td>\n",
              "      <td>0</td>\n",
              "      <td>0</td>\n",
              "      <td>0</td>\n",
              "      <td>0.0000</td>\n",
              "    </tr>\n",
              "  </tbody>\n",
              "</table>\n",
              "<p>20675 rows × 20 columns</p>\n",
              "</div>"
            ],
            "text/plain": [
              "           id                type  ... total_weights  average_weight\n",
              "657    160902           boardgame  ...            45          2.0889\n",
              "929    153016           boardgame  ...            14          1.0000\n",
              "1211    37301           boardgame  ...            29          1.9655\n",
              "1342    52328           boardgame  ...            36          3.2500\n",
              "1516    29285           boardgame  ...            66          4.5758\n",
              "...       ...                 ...  ...           ...             ...\n",
              "81294  184349           boardgame  ...             0          0.0000\n",
              "81299  184368           boardgame  ...             0          0.0000\n",
              "81303  184403           boardgame  ...             0          0.0000\n",
              "81307  184441  boardgameexpansion  ...             0          0.0000\n",
              "81308  184442           boardgame  ...             0          0.0000\n",
              "\n",
              "[20675 rows x 20 columns]"
            ]
          },
          "metadata": {
            "tags": []
          },
          "execution_count": 29
        }
      ]
    },
    {
      "cell_type": "markdown",
      "metadata": {
        "id": "630d79e0eS_v"
      },
      "source": [
        "* There are 20675 such cases where at least one of ['maxplayers', 'maxplaytime'] is 0.\n"
      ]
    },
    {
      "cell_type": "code",
      "metadata": {
        "id": "NHr9cOPTzaSF",
        "colab": {
          "base_uri": "https://localhost:8080/"
        },
        "outputId": "520e1031-014b-4d71-91cb-de6980a8f34f"
      },
      "source": [
        "#Let's count the number of rows where 'minplayers' > 'maxplayers'\n",
        "games[games['minplayers'] > games['maxplayers']].count()"
      ],
      "execution_count": 31,
      "outputs": [
        {
          "output_type": "execute_result",
          "data": {
            "text/plain": [
              "id                      4020\n",
              "type                    4020\n",
              "name                    4019\n",
              "yearpublished           4020\n",
              "minplayers              4020\n",
              "maxplayers              4020\n",
              "playingtime             4020\n",
              "minplaytime             4020\n",
              "maxplaytime             4020\n",
              "minage                  4020\n",
              "users_rated             4020\n",
              "average_rating          4020\n",
              "bayes_average_rating    4020\n",
              "total_owners            4020\n",
              "total_traders           4020\n",
              "total_wanters           4020\n",
              "total_wishers           4020\n",
              "total_comments          4020\n",
              "total_weights           4020\n",
              "average_weight          4020\n",
              "dtype: int64"
            ]
          },
          "metadata": {
            "tags": []
          },
          "execution_count": 31
        }
      ]
    },
    {
      "cell_type": "markdown",
      "metadata": {
        "id": "dnUJh2lSfNK6"
      },
      "source": [
        "* There are 4020 cases where 'minplayers' > 'maxplayers'"
      ]
    },
    {
      "cell_type": "code",
      "metadata": {
        "id": "sqDa-7m1zaV7",
        "colab": {
          "base_uri": "https://localhost:8080/"
        },
        "outputId": "c1b57fc4-9492-4cfa-c043-76156b1cc719"
      },
      "source": [
        "#Let's count the number of rows where 'minplaytime' > 'maxplaytime'\n",
        "games[games['minplaytime'] > games['maxplaytime']].count()"
      ],
      "execution_count": 32,
      "outputs": [
        {
          "output_type": "execute_result",
          "data": {
            "text/plain": [
              "id                      600\n",
              "type                    600\n",
              "name                    600\n",
              "yearpublished           600\n",
              "minplayers              600\n",
              "maxplayers              600\n",
              "playingtime             600\n",
              "minplaytime             600\n",
              "maxplaytime             600\n",
              "minage                  600\n",
              "users_rated             600\n",
              "average_rating          600\n",
              "bayes_average_rating    600\n",
              "total_owners            600\n",
              "total_traders           600\n",
              "total_wanters           600\n",
              "total_wishers           600\n",
              "total_comments          600\n",
              "total_weights           600\n",
              "average_weight          600\n",
              "dtype: int64"
            ]
          },
          "metadata": {
            "tags": []
          },
          "execution_count": 32
        }
      ]
    },
    {
      "cell_type": "markdown",
      "metadata": {
        "id": "WklEEEF7iF4P"
      },
      "source": [
        "* There are 600 cases where 'minplaytime' > 'maxplaytime'"
      ]
    },
    {
      "cell_type": "code",
      "metadata": {
        "id": "LjvRuCyszaYo"
      },
      "source": [
        "#Now we drop rows with missing values\n",
        "games = games.dropna(axis = 0)"
      ],
      "execution_count": 33,
      "outputs": []
    },
    {
      "cell_type": "code",
      "metadata": {
        "id": "LgQZ6TyRzabt",
        "colab": {
          "base_uri": "https://localhost:8080/"
        },
        "outputId": "43552354-e899-4636-85a3-974b44034b52"
      },
      "source": [
        "games.isnull().sum()"
      ],
      "execution_count": 34,
      "outputs": [
        {
          "output_type": "execute_result",
          "data": {
            "text/plain": [
              "id                      0\n",
              "type                    0\n",
              "name                    0\n",
              "yearpublished           0\n",
              "minplayers              0\n",
              "maxplayers              0\n",
              "playingtime             0\n",
              "minplaytime             0\n",
              "maxplaytime             0\n",
              "minage                  0\n",
              "users_rated             0\n",
              "average_rating          0\n",
              "bayes_average_rating    0\n",
              "total_owners            0\n",
              "total_traders           0\n",
              "total_wanters           0\n",
              "total_wishers           0\n",
              "total_comments          0\n",
              "total_weights           0\n",
              "average_weight          0\n",
              "dtype: int64"
            ]
          },
          "metadata": {
            "tags": []
          },
          "execution_count": 34
        }
      ]
    },
    {
      "cell_type": "code",
      "metadata": {
        "id": "VGhcYAC7zaew"
      },
      "source": [
        "#Now we drop the column which is not none of use.\n",
        "games.drop(['id', 'type', 'name', 'bayes_average_rating'], axis = 1, inplace = True)"
      ],
      "execution_count": 35,
      "outputs": []
    },
    {
      "cell_type": "code",
      "metadata": {
        "id": "MHTobjz7zahx"
      },
      "source": [
        "#Dropping rows where users_rated = 0\n",
        "games.drop(games[games['users_rated'] == 0].index, inplace = True)"
      ],
      "execution_count": 36,
      "outputs": []
    },
    {
      "cell_type": "code",
      "metadata": {
        "id": "9JqIu2dJzak4"
      },
      "source": [
        "#Now swapping rows with 'minplayers' > 'maxplayers' and 'minplaytime' > 'maxplaytime'\n",
        "a = (games['minplayers'] > games['maxplayers'])\n",
        "games.loc[a, ['minplayers',  'maxplayers']] = games.loc[a, ['maxplayers', 'minplayers']].values"
      ],
      "execution_count": 37,
      "outputs": []
    },
    {
      "cell_type": "code",
      "metadata": {
        "id": "PjvwRYfRzan9"
      },
      "source": [
        "b = (games['minplaytime'] > games['maxplaytime'])\n",
        "games.loc[a, ['minplaytime',  'maxplaytime']] = games.loc[a, ['maxplaytime', 'minplaytime']].values"
      ],
      "execution_count": 38,
      "outputs": []
    },
    {
      "cell_type": "code",
      "metadata": {
        "id": "tUYKNoXQzar1",
        "colab": {
          "base_uri": "https://localhost:8080/",
          "height": 224
        },
        "outputId": "54f376a7-9246-4c8d-c9f2-65f491b5c90f"
      },
      "source": [
        "games.head()"
      ],
      "execution_count": 39,
      "outputs": [
        {
          "output_type": "execute_result",
          "data": {
            "text/html": [
              "<div>\n",
              "<style scoped>\n",
              "    .dataframe tbody tr th:only-of-type {\n",
              "        vertical-align: middle;\n",
              "    }\n",
              "\n",
              "    .dataframe tbody tr th {\n",
              "        vertical-align: top;\n",
              "    }\n",
              "\n",
              "    .dataframe thead th {\n",
              "        text-align: right;\n",
              "    }\n",
              "</style>\n",
              "<table border=\"1\" class=\"dataframe\">\n",
              "  <thead>\n",
              "    <tr style=\"text-align: right;\">\n",
              "      <th></th>\n",
              "      <th>yearpublished</th>\n",
              "      <th>minplayers</th>\n",
              "      <th>maxplayers</th>\n",
              "      <th>playingtime</th>\n",
              "      <th>minplaytime</th>\n",
              "      <th>maxplaytime</th>\n",
              "      <th>minage</th>\n",
              "      <th>users_rated</th>\n",
              "      <th>average_rating</th>\n",
              "      <th>total_owners</th>\n",
              "      <th>total_traders</th>\n",
              "      <th>total_wanters</th>\n",
              "      <th>total_wishers</th>\n",
              "      <th>total_comments</th>\n",
              "      <th>total_weights</th>\n",
              "      <th>average_weight</th>\n",
              "    </tr>\n",
              "  </thead>\n",
              "  <tbody>\n",
              "    <tr>\n",
              "      <th>0</th>\n",
              "      <td>2005.0</td>\n",
              "      <td>2.0</td>\n",
              "      <td>2.0</td>\n",
              "      <td>180.0</td>\n",
              "      <td>180.0</td>\n",
              "      <td>180.0</td>\n",
              "      <td>13.0</td>\n",
              "      <td>20113</td>\n",
              "      <td>8.33774</td>\n",
              "      <td>26647</td>\n",
              "      <td>372</td>\n",
              "      <td>1219</td>\n",
              "      <td>5865</td>\n",
              "      <td>5347</td>\n",
              "      <td>2562</td>\n",
              "      <td>3.4785</td>\n",
              "    </tr>\n",
              "    <tr>\n",
              "      <th>1</th>\n",
              "      <td>2012.0</td>\n",
              "      <td>2.0</td>\n",
              "      <td>5.0</td>\n",
              "      <td>150.0</td>\n",
              "      <td>60.0</td>\n",
              "      <td>150.0</td>\n",
              "      <td>12.0</td>\n",
              "      <td>14383</td>\n",
              "      <td>8.28798</td>\n",
              "      <td>16519</td>\n",
              "      <td>132</td>\n",
              "      <td>1586</td>\n",
              "      <td>6277</td>\n",
              "      <td>2526</td>\n",
              "      <td>1423</td>\n",
              "      <td>3.8939</td>\n",
              "    </tr>\n",
              "    <tr>\n",
              "      <th>2</th>\n",
              "      <td>2013.0</td>\n",
              "      <td>1.0</td>\n",
              "      <td>7.0</td>\n",
              "      <td>210.0</td>\n",
              "      <td>30.0</td>\n",
              "      <td>210.0</td>\n",
              "      <td>12.0</td>\n",
              "      <td>9262</td>\n",
              "      <td>8.28994</td>\n",
              "      <td>12230</td>\n",
              "      <td>99</td>\n",
              "      <td>1476</td>\n",
              "      <td>5600</td>\n",
              "      <td>1700</td>\n",
              "      <td>777</td>\n",
              "      <td>3.7761</td>\n",
              "    </tr>\n",
              "    <tr>\n",
              "      <th>3</th>\n",
              "      <td>2006.0</td>\n",
              "      <td>2.0</td>\n",
              "      <td>4.0</td>\n",
              "      <td>240.0</td>\n",
              "      <td>240.0</td>\n",
              "      <td>240.0</td>\n",
              "      <td>12.0</td>\n",
              "      <td>13294</td>\n",
              "      <td>8.20407</td>\n",
              "      <td>14343</td>\n",
              "      <td>362</td>\n",
              "      <td>1084</td>\n",
              "      <td>5075</td>\n",
              "      <td>3378</td>\n",
              "      <td>1642</td>\n",
              "      <td>4.1590</td>\n",
              "    </tr>\n",
              "    <tr>\n",
              "      <th>4</th>\n",
              "      <td>2002.0</td>\n",
              "      <td>2.0</td>\n",
              "      <td>5.0</td>\n",
              "      <td>150.0</td>\n",
              "      <td>90.0</td>\n",
              "      <td>150.0</td>\n",
              "      <td>12.0</td>\n",
              "      <td>39883</td>\n",
              "      <td>8.14261</td>\n",
              "      <td>44362</td>\n",
              "      <td>795</td>\n",
              "      <td>861</td>\n",
              "      <td>5414</td>\n",
              "      <td>9173</td>\n",
              "      <td>5213</td>\n",
              "      <td>3.2943</td>\n",
              "    </tr>\n",
              "  </tbody>\n",
              "</table>\n",
              "</div>"
            ],
            "text/plain": [
              "   yearpublished  minplayers  ...  total_weights  average_weight\n",
              "0         2005.0         2.0  ...           2562          3.4785\n",
              "1         2012.0         2.0  ...           1423          3.8939\n",
              "2         2013.0         1.0  ...            777          3.7761\n",
              "3         2006.0         2.0  ...           1642          4.1590\n",
              "4         2002.0         2.0  ...           5213          3.2943\n",
              "\n",
              "[5 rows x 16 columns]"
            ]
          },
          "metadata": {
            "tags": []
          },
          "execution_count": 39
        }
      ]
    },
    {
      "cell_type": "code",
      "metadata": {
        "id": "zxxEP-lpzavk",
        "colab": {
          "base_uri": "https://localhost:8080/",
          "height": 683
        },
        "outputId": "4e06f2d3-4a2a-4bbd-9de7-e4366bcab39c"
      },
      "source": [
        "#Let's see the correlation between features of datasets\n",
        "corr_mat = games.corr()\n",
        "plt.figure(figsize = (15,10))\n",
        "sns.heatmap(corr_mat, annot = True)"
      ],
      "execution_count": 43,
      "outputs": [
        {
          "output_type": "execute_result",
          "data": {
            "text/plain": [
              "<matplotlib.axes._subplots.AxesSubplot at 0x7f3e290679d0>"
            ]
          },
          "metadata": {
            "tags": []
          },
          "execution_count": 43
        },
        {
          "output_type": "display_data",
          "data": {
            "image/png": "[encoded data removed]",
            "text/plain": [
              "<Figure size 1080x720 with 2 Axes>"
            ]
          },
          "metadata": {
            "tags": [],
            "needs_background": "light"
          }
        }
      ]
    },
    {
      "cell_type": "markdown",
      "metadata": {
        "id": "46ccPIlPp6C3"
      },
      "source": [
        " - From the above correlation plot we can say that, 'playingtime', 'minplaytime' and 'maxplaytime' have good correlation among themselves which is expected as each of these features are related to the playing time of a board game.\n",
        " - ‘total_owners’, ‘total_traders’, ‘total_wanters’, ‘total_wishers’, ‘total_comments’ and ‘total_weights’ have good correlation among themselves which is expected as each of these features are directly proportional to demand value of a board game."
      ]
    },
    {
      "cell_type": "code",
      "metadata": {
        "id": "eHarGQH6zayK",
        "colab": {
          "base_uri": "https://localhost:8080/",
          "height": 131
        },
        "outputId": "da8e0f00-8193-405c-8dab-a0d5c481c099"
      },
      "source": [
        "games.head(2)"
      ],
      "execution_count": 44,
      "outputs": [
        {
          "output_type": "execute_result",
          "data": {
            "text/html": [
              "<div>\n",
              "<style scoped>\n",
              "    .dataframe tbody tr th:only-of-type {\n",
              "        vertical-align: middle;\n",
              "    }\n",
              "\n",
              "    .dataframe tbody tr th {\n",
              "        vertical-align: top;\n",
              "    }\n",
              "\n",
              "    .dataframe thead th {\n",
              "        text-align: right;\n",
              "    }\n",
              "</style>\n",
              "<table border=\"1\" class=\"dataframe\">\n",
              "  <thead>\n",
              "    <tr style=\"text-align: right;\">\n",
              "      <th></th>\n",
              "      <th>yearpublished</th>\n",
              "      <th>minplayers</th>\n",
              "      <th>maxplayers</th>\n",
              "      <th>playingtime</th>\n",
              "      <th>minplaytime</th>\n",
              "      <th>maxplaytime</th>\n",
              "      <th>minage</th>\n",
              "      <th>users_rated</th>\n",
              "      <th>average_rating</th>\n",
              "      <th>total_owners</th>\n",
              "      <th>total_traders</th>\n",
              "      <th>total_wanters</th>\n",
              "      <th>total_wishers</th>\n",
              "      <th>total_comments</th>\n",
              "      <th>total_weights</th>\n",
              "      <th>average_weight</th>\n",
              "    </tr>\n",
              "  </thead>\n",
              "  <tbody>\n",
              "    <tr>\n",
              "      <th>0</th>\n",
              "      <td>2005.0</td>\n",
              "      <td>2.0</td>\n",
              "      <td>2.0</td>\n",
              "      <td>180.0</td>\n",
              "      <td>180.0</td>\n",
              "      <td>180.0</td>\n",
              "      <td>13.0</td>\n",
              "      <td>20113</td>\n",
              "      <td>8.33774</td>\n",
              "      <td>26647</td>\n",
              "      <td>372</td>\n",
              "      <td>1219</td>\n",
              "      <td>5865</td>\n",
              "      <td>5347</td>\n",
              "      <td>2562</td>\n",
              "      <td>3.4785</td>\n",
              "    </tr>\n",
              "    <tr>\n",
              "      <th>1</th>\n",
              "      <td>2012.0</td>\n",
              "      <td>2.0</td>\n",
              "      <td>5.0</td>\n",
              "      <td>150.0</td>\n",
              "      <td>60.0</td>\n",
              "      <td>150.0</td>\n",
              "      <td>12.0</td>\n",
              "      <td>14383</td>\n",
              "      <td>8.28798</td>\n",
              "      <td>16519</td>\n",
              "      <td>132</td>\n",
              "      <td>1586</td>\n",
              "      <td>6277</td>\n",
              "      <td>2526</td>\n",
              "      <td>1423</td>\n",
              "      <td>3.8939</td>\n",
              "    </tr>\n",
              "  </tbody>\n",
              "</table>\n",
              "</div>"
            ],
            "text/plain": [
              "   yearpublished  minplayers  ...  total_weights  average_weight\n",
              "0         2005.0         2.0  ...           2562          3.4785\n",
              "1         2012.0         2.0  ...           1423          3.8939\n",
              "\n",
              "[2 rows x 16 columns]"
            ]
          },
          "metadata": {
            "tags": []
          },
          "execution_count": 44
        }
      ]
    },
    {
      "cell_type": "code",
      "metadata": {
        "id": "mfdyLcHkza1A"
      },
      "source": [
        "#Now splitting dataset into indepedant variable and dependant variable\n",
        "X = games.drop('average_rating', axis = 1)\n",
        "y = games['average_rating']"
      ],
      "execution_count": 45,
      "outputs": []
    },
    {
      "cell_type": "code",
      "metadata": {
        "id": "xH91dFe3z9Mc",
        "colab": {
          "base_uri": "https://localhost:8080/"
        },
        "outputId": "0c75e196-4417-4588-aad8-395c5cb32219"
      },
      "source": [
        "X.shape"
      ],
      "execution_count": 46,
      "outputs": [
        {
          "output_type": "execute_result",
          "data": {
            "text/plain": [
              "(56894, 15)"
            ]
          },
          "metadata": {
            "tags": []
          },
          "execution_count": 46
        }
      ]
    },
    {
      "cell_type": "code",
      "metadata": {
        "id": "NM937_kkz9PO",
        "colab": {
          "base_uri": "https://localhost:8080/"
        },
        "outputId": "67ab21d4-6c1d-4f49-e048-005ff3cf6677"
      },
      "source": [
        "y.shape"
      ],
      "execution_count": 47,
      "outputs": [
        {
          "output_type": "execute_result",
          "data": {
            "text/plain": [
              "(56894,)"
            ]
          },
          "metadata": {
            "tags": []
          },
          "execution_count": 47
        }
      ]
    },
    {
      "cell_type": "code",
      "metadata": {
        "id": "WtsViugbz9SP"
      },
      "source": [
        "#splitting dataset into training set and testing data\n",
        "from sklearn.model_selection import train_test_split\n",
        "x_train, x_test, y_train, y_test = train_test_split(X,y, test_size = 0.3, random_state = 42)"
      ],
      "execution_count": 50,
      "outputs": []
    },
    {
      "cell_type": "code",
      "metadata": {
        "id": "lGGnHe3Nz9VW",
        "colab": {
          "base_uri": "https://localhost:8080/"
        },
        "outputId": "919d2a9d-f116-498a-af02-49f144a4c67c"
      },
      "source": [
        "print(x_train.shape, x_test.shape)"
      ],
      "execution_count": 51,
      "outputs": [
        {
          "output_type": "stream",
          "text": [
            "(39825, 15) (17069, 15)\n"
          ],
          "name": "stdout"
        }
      ]
    },
    {
      "cell_type": "code",
      "metadata": {
        "id": "07bxLHRsz9YN",
        "colab": {
          "base_uri": "https://localhost:8080/"
        },
        "outputId": "179a1764-7abf-4524-f8f3-0b067e5e7a86"
      },
      "source": [
        "print(y_train.shape, y_test.shape)"
      ],
      "execution_count": 52,
      "outputs": [
        {
          "output_type": "stream",
          "text": [
            "(39825,) (17069,)\n"
          ],
          "name": "stdout"
        }
      ]
    },
    {
      "cell_type": "code",
      "metadata": {
        "id": "xJXBD9d5z9bG"
      },
      "source": [
        "#Scaling dataset\n",
        "from sklearn.preprocessing import StandardScaler\n",
        "scaler = StandardScaler()"
      ],
      "execution_count": 55,
      "outputs": []
    },
    {
      "cell_type": "code",
      "metadata": {
        "id": "FR0-7E6xz9dy"
      },
      "source": [
        "x_train = scaler.fit_transform(x_train)\n",
        "x_test = scaler.fit_transform(x_test)"
      ],
      "execution_count": 57,
      "outputs": []
    },
    {
      "cell_type": "markdown",
      "metadata": {
        "id": "FXa1B_Zg5e0-"
      },
      "source": [
        "#### Create Regression Model"
      ]
    },
    {
      "cell_type": "code",
      "metadata": {
        "id": "LzRMBexuz9hV"
      },
      "source": [
        "#create Regression Model\n",
        "#Linear Regression\n",
        "from sklearn.linear_model import LinearRegression\n",
        "regressor = LinearRegression()"
      ],
      "execution_count": 58,
      "outputs": []
    },
    {
      "cell_type": "code",
      "metadata": {
        "id": "UheswJhdE1te"
      },
      "source": [
        "regressor.fit(x_train, y_train)\n",
        "#predict the model\n",
        "reg_prediction = regressor.predict(x_test)"
      ],
      "execution_count": 59,
      "outputs": []
    },
    {
      "cell_type": "code",
      "metadata": {
        "colab": {
          "base_uri": "https://localhost:8080/"
        },
        "id": "IWBPECRCE10_",
        "outputId": "cc127d23-1289-4e8b-fbe0-952dd698da17"
      },
      "source": [
        "#Let's check performance of the model\n",
        "from sklearn.metrics import r2_score, mean_squared_error\n",
        "scores = r2_score(y_test, reg_prediction)\n",
        "scores"
      ],
      "execution_count": 61,
      "outputs": [
        {
          "output_type": "execute_result",
          "data": {
            "text/plain": [
              "0.16232465908285543"
            ]
          },
          "metadata": {
            "tags": []
          },
          "execution_count": 61
        }
      ]
    },
    {
      "cell_type": "code",
      "metadata": {
        "colab": {
          "base_uri": "https://localhost:8080/"
        },
        "id": "0b2svz7dE168",
        "outputId": "b9b83c3e-3934-437d-ecbd-c6937f25939f"
      },
      "source": [
        "mse = mean_squared_error(y_test, reg_prediction)\n",
        "mse"
      ],
      "execution_count": 62,
      "outputs": [
        {
          "output_type": "execute_result",
          "data": {
            "text/plain": [
              "2.0732987632938453"
            ]
          },
          "metadata": {
            "tags": []
          },
          "execution_count": 62
        }
      ]
    },
    {
      "cell_type": "code",
      "metadata": {
        "colab": {
          "base_uri": "https://localhost:8080/"
        },
        "id": "l_fekvVqE1_K",
        "outputId": "7c9b8625-c8ab-4028-8c05-dd070a114d29"
      },
      "source": [
        "#DecisionTreeRegressor\n",
        "from sklearn.tree import DecisionTreeRegressor\n",
        "dt_reg = DecisionTreeRegressor()\n",
        "dt_reg.fit(x_train, y_train)"
      ],
      "execution_count": 65,
      "outputs": [
        {
          "output_type": "execute_result",
          "data": {
            "text/plain": [
              "DecisionTreeRegressor(ccp_alpha=0.0, criterion='mse', max_depth=None,\n",
              "                      max_features=None, max_leaf_nodes=None,\n",
              "                      min_impurity_decrease=0.0, min_impurity_split=None,\n",
              "                      min_samples_leaf=1, min_samples_split=2,\n",
              "                      min_weight_fraction_leaf=0.0, presort='deprecated',\n",
              "                      random_state=None, splitter='best')"
            ]
          },
          "metadata": {
            "tags": []
          },
          "execution_count": 65
        }
      ]
    },
    {
      "cell_type": "code",
      "metadata": {
        "id": "b6Xi9TJZE2DJ"
      },
      "source": [
        "dt_prediction = dt_reg.predict(x_test)"
      ],
      "execution_count": 66,
      "outputs": []
    },
    {
      "cell_type": "code",
      "metadata": {
        "colab": {
          "base_uri": "https://localhost:8080/"
        },
        "id": "CWdfZFAuE2JR",
        "outputId": "34f13b69-28a6-486f-d3f3-5253dc70953a"
      },
      "source": [
        "print(\"Scores : \", r2_score(y_test, dt_prediction))\n",
        "print(\"MeanSquareError : \", mean_squared_error(y_test, dt_prediction))"
      ],
      "execution_count": 68,
      "outputs": [
        {
          "output_type": "stream",
          "text": [
            "Scores :  -0.24766151812480874\n",
            "MeanSquareError :  3.0880401465624\n"
          ],
          "name": "stdout"
        }
      ]
    },
    {
      "cell_type": "code",
      "metadata": {
        "colab": {
          "base_uri": "https://localhost:8080/"
        },
        "id": "ZLMXfH37E2PR",
        "outputId": "534140ec-4821-418c-c8fe-cc76a7d83500"
      },
      "source": [
        "#RandomForestRegressor\n",
        "from sklearn.ensemble import RandomForestRegressor\n",
        "forest = RandomForestRegressor(n_estimators= 200,random_state= 42)\n",
        "forest.fit(x_train, y_train)"
      ],
      "execution_count": 84,
      "outputs": [
        {
          "output_type": "execute_result",
          "data": {
            "text/plain": [
              "RandomForestRegressor(bootstrap=True, ccp_alpha=0.0, criterion='mse',\n",
              "                      max_depth=None, max_features='auto', max_leaf_nodes=None,\n",
              "                      max_samples=None, min_impurity_decrease=0.0,\n",
              "                      min_impurity_split=None, min_samples_leaf=1,\n",
              "                      min_samples_split=2, min_weight_fraction_leaf=0.0,\n",
              "                      n_estimators=200, n_jobs=None, oob_score=False,\n",
              "                      random_state=42, verbose=0, warm_start=False)"
            ]
          },
          "metadata": {
            "tags": []
          },
          "execution_count": 84
        }
      ]
    },
    {
      "cell_type": "code",
      "metadata": {
        "id": "sOVbPvjeE2T_"
      },
      "source": [
        "forest_prediction = forest.predict(x_test)"
      ],
      "execution_count": 85,
      "outputs": []
    },
    {
      "cell_type": "code",
      "metadata": {
        "colab": {
          "base_uri": "https://localhost:8080/"
        },
        "id": "mTZjeb4SE2cW",
        "outputId": "aa8b1abd-0221-4863-b5d0-936b6fe786a5"
      },
      "source": [
        "print(\"Scores : \", r2_score(y_test, forest_prediction))\n",
        "print(\"MeanSquareError : \", mean_squared_error(y_test, forest_prediction))"
      ],
      "execution_count": 86,
      "outputs": [
        {
          "output_type": "stream",
          "text": [
            "Scores :  0.32104440421520974\n",
            "MeanSquareError :  1.6804574855108174\n"
          ],
          "name": "stdout"
        }
      ]
    },
    {
      "cell_type": "markdown",
      "metadata": {
        "id": "WduVBET73etO"
      },
      "source": [
        "* The performance of Random Forest Regressor model is better than Linear Regresssion and Decision Tree Regression Model for the given dataset."
      ]
    },
    {
      "cell_type": "code",
      "metadata": {
        "id": "-SrC-s7fE2ie"
      },
      "source": [
        "#Prediction on another data\n",
        "prediction = forest.predict(games.iloc[[42,97]].drop('average_rating', 1))"
      ],
      "execution_count": 87,
      "outputs": []
    },
    {
      "cell_type": "code",
      "metadata": {
        "colab": {
          "base_uri": "https://localhost:8080/"
        },
        "id": "ezFIzr4LE2qP",
        "outputId": "d4c1aa74-a223-4403-f888-5eb100919ada"
      },
      "source": [
        "prediction"
      ],
      "execution_count": 88,
      "outputs": [
        {
          "output_type": "execute_result",
          "data": {
            "text/plain": [
              "array([7.9302693, 7.9302693])"
            ]
          },
          "metadata": {
            "tags": []
          },
          "execution_count": 88
        }
      ]
    },
    {
      "cell_type": "markdown",
      "metadata": {
        "id": "f6V0BCaN4JR8"
      },
      "source": [
        "* The actual ‘average_ratings’ of 42nd and 97th board games in data set are [7.9302693, 7.9302693]."
      ]
    },
    {
      "cell_type": "code",
      "metadata": {
        "colab": {
          "base_uri": "https://localhost:8080/"
        },
        "id": "5IFtlFmQE2ws",
        "outputId": "0d35d2f8-9588-4272-bb40-696943117f43"
      },
      "source": [
        "#Actual average ratings\n",
        "games.iloc[[42,97]]['average_rating']"
      ],
      "execution_count": 90,
      "outputs": [
        {
          "output_type": "execute_result",
          "data": {
            "text/plain": [
              "42    7.86088\n",
              "97    7.67833\n",
              "Name: average_rating, dtype: float64"
            ]
          },
          "metadata": {
            "tags": []
          },
          "execution_count": 90
        }
      ]
    },
    {
      "cell_type": "markdown",
      "metadata": {
        "id": "0EeExqBV4-yY"
      },
      "source": [
        "* The predicted ‘average_ratings’ are very close to the actual ‘average_ratings’."
      ]
    },
    {
      "cell_type": "code",
      "metadata": {
        "id": "WgVnFnvbE3qB"
      },
      "source": [
        ""
      ],
      "execution_count": 16,
      "outputs": []
    },
    {
      "cell_type": "code",
      "metadata": {
        "id": "qxxYxO9-E3uo"
      },
      "source": [
        ""
      ],
      "execution_count": 16,
      "outputs": []
    }
  ]
}